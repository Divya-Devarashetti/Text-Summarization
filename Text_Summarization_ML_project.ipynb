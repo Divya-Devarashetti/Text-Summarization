{
  "nbformat": 4,
  "nbformat_minor": 0,
  "metadata": {
    "colab": {
      "provenance": [],
      "authorship_tag": "ABX9TyN1qZMSiOSZVOlIg9ns0Bt0",
      "include_colab_link": true
    },
    "kernelspec": {
      "name": "python3",
      "display_name": "Python 3"
    },
    "language_info": {
      "name": "python"
    }
  },
  "cells": [
    {
      "cell_type": "markdown",
      "metadata": {
        "id": "view-in-github",
        "colab_type": "text"
      },
      "source": [
        "<a href=\"https://colab.research.google.com/github/Divya-Devarashetti/Text-Summarization-ML/blob/main/Text_Summarization_ML_project.ipynb\" target=\"_parent\"><img src=\"https://colab.research.google.com/assets/colab-badge.svg\" alt=\"Open In Colab\"/></a>"
      ]
    },
    {
      "cell_type": "markdown",
      "source": [
        "Importing some libraries"
      ],
      "metadata": {
        "id": "K4zYhUEc7Mqb"
      }
    },
    {
      "cell_type": "code",
      "source": [
        "from nltk.corpus import stopwords\n",
        "from nltk.stem import PorterStemmer\n",
        "from nltk.tokenize import word_tokenize, sent_tokenize\n",
        "import bs4 as BeautifulSoup\n",
        "import urllib.request  "
      ],
      "metadata": {
        "id": "5ueo343d3Kal"
      },
      "execution_count": null,
      "outputs": []
    },
    {
      "cell_type": "markdown",
      "source": [
        "Fetching the content from the URL"
      ],
      "metadata": {
        "id": "qMcbgl4l7YN5"
      }
    },
    {
      "cell_type": "code",
      "source": [
        "text_summ = urllib.request.urlopen('https://en.wikipedia.org/wiki/Sports_car')"
      ],
      "metadata": {
        "id": "VD_ytVzM3izA"
      },
      "execution_count": null,
      "outputs": []
    },
    {
      "cell_type": "code",
      "source": [
        "summ_read = text_summ.read()"
      ],
      "metadata": {
        "id": "NzUhIEMR3l2J"
      },
      "execution_count": null,
      "outputs": []
    },
    {
      "cell_type": "markdown",
      "source": [
        "Parsing the URL content and storing in a variable"
      ],
      "metadata": {
        "id": "SrCb5gdt7gWo"
      }
    },
    {
      "cell_type": "code",
      "source": [
        "summ_parsed = BeautifulSoup.BeautifulSoup(summ_read,'html.parser')"
      ],
      "metadata": {
        "id": "4b0pRDsz37NK"
      },
      "execution_count": null,
      "outputs": []
    },
    {
      "cell_type": "code",
      "source": [
        "paragraphs = summ_parsed.find_all('p')"
      ],
      "metadata": {
        "id": "jhaJj62i4LwV"
      },
      "execution_count": null,
      "outputs": []
    },
    {
      "cell_type": "code",
      "source": [
        "summ_content = ''"
      ],
      "metadata": {
        "id": "sYiNchvF4PC4"
      },
      "execution_count": null,
      "outputs": []
    },
    {
      "cell_type": "markdown",
      "source": [
        " Looping through the paragraphs and adding them to the variable"
      ],
      "metadata": {
        "id": "d_Bc4g6y79i3"
      }
    },
    {
      "cell_type": "code",
      "source": [
        "for p in paragraphs:  \n",
        "    summ_content += p.text"
      ],
      "metadata": {
        "id": "nVW3jh-t4fTm"
      },
      "execution_count": null,
      "outputs": []
    },
    {
      "cell_type": "code",
      "source": [
        "def _creating_dictionary_table(text_string) -> dict:\n",
        "   \n",
        "    #remove stop words\n",
        "    stop_words = set(stopwords.words(\"english\"))\n",
        "    \n",
        "    words = word_tokenize(text_string)\n",
        "    \n",
        "    #reducing words to their root form\n",
        "    stem = PorterStemmer()\n",
        "    \n",
        "    #creating dictionary for the word frequency table\n",
        "    frequency_table = dict()\n",
        "    for w in words:\n",
        "        w = stem.stem(w)\n",
        "        if w in stop_words:\n",
        "            continue\n",
        "        if w in frequency_table:\n",
        "            frequency_table[w] += 1\n",
        "        else:\n",
        "            frequency_table[w] = 1\n",
        "\n",
        "    return frequency_table"
      ],
      "metadata": {
        "id": "6rD21pye4h1u"
      },
      "execution_count": null,
      "outputs": []
    },
    {
      "cell_type": "code",
      "source": [
        "def _calculated_sentence_scores(sentences, frequency_table) -> dict:   \n",
        "\n",
        "    #algorithm for scoring a sentence by its words\n",
        "    sentence_weight = dict()\n",
        "\n",
        "    for sentence in sentences:\n",
        "        sentence_wordcount = (len(word_tokenize(sentence)))\n",
        "        sentence_wordcount_without_stop_words = 0\n",
        "        for word_weight in frequency_table:\n",
        "            if word_weight in sentence.lower():\n",
        "                sentence_wordcount_without_stop_words += 1\n",
        "                if sentence[:7] in sentence_weight:\n",
        "                    sentence_weight[sentence[:7]] += frequency_table[word_weight]\n",
        "                else:\n",
        "                    sentence_weight[sentence[:7]] = frequency_table[word_weight]\n",
        "\n",
        "        sentence_weight[sentence[:7]] = sentence_weight[sentence[:7]] / sentence_wordcount_without_stop_words\n",
        "\n",
        "       \n",
        "\n",
        "    return sentence_weight"
      ],
      "metadata": {
        "id": "uzOH5aXX4wzJ"
      },
      "execution_count": null,
      "outputs": []
    },
    {
      "cell_type": "code",
      "source": [
        "def _calculated_average_score(sentence_weight) -> int:\n",
        "   \n",
        "    #calculating the average score for the sentences\n",
        "    sum_values = 0\n",
        "    for entry in sentence_weight:\n",
        "        sum_values += sentence_weight[entry]\n",
        "\n",
        "    #getting sentence average value from source text\n",
        "    average_score = (sum_values / len(sentence_weight))\n",
        "\n",
        "    return average_score"
      ],
      "metadata": {
        "id": "cGn438aE421D"
      },
      "execution_count": null,
      "outputs": []
    },
    {
      "cell_type": "code",
      "source": [
        "def _get_article_summary(sentences, sentence_weight, threshold):\n",
        "    sentence_counter = 0\n",
        "    article_summary = ''\n",
        "\n",
        "    for sentence in sentences:\n",
        "        if sentence[:7] in sentence_weight and sentence_weight[sentence[:7]] >= (threshold):\n",
        "            article_summary += \" \" + sentence\n",
        "            sentence_counter += 1\n",
        "\n",
        "    return article_summary"
      ],
      "metadata": {
        "id": "V2ONfRfn4-gA"
      },
      "execution_count": null,
      "outputs": []
    },
    {
      "cell_type": "code",
      "source": [
        "def _run_article_summary(article):\n",
        "    \n",
        "    #creating a dictionary for the word frequency table\n",
        "    frequency_table = _creating_dictionary_table(article)\n",
        "\n",
        "    #tokenizing the sentences\n",
        "    sentences = sent_tokenize(article)\n",
        "\n",
        "    #algorithm for scoring a sentence by its words\n",
        "    sentence_scores = _calculated_sentence_scores(sentences, frequency_table)\n",
        "\n",
        "    #getting the threshold\n",
        "    threshold = _calculated_average_score(sentence_scores)\n",
        "\n",
        "    #producing the summary\n",
        "    article_summary = _get_article_summary(sentences, sentence_scores, 1.5 * threshold)\n",
        "\n",
        "    return article_summary"
      ],
      "metadata": {
        "id": "8QXzpYi45Iam"
      },
      "execution_count": null,
      "outputs": []
    },
    {
      "cell_type": "code",
      "source": [
        "if __name__ == '__main__':\n",
        "    summ_results = _run_article_summary(summ_content)\n",
        "    print(summ_results)"
      ],
      "metadata": {
        "colab": {
          "base_uri": "https://localhost:8080/"
        },
        "id": "CJxdc76A5aom",
        "outputId": "2ed29460-0d2a-471d-a33a-a59b1607298f"
      },
      "execution_count": null,
      "outputs": [
        {
          "output_type": "stream",
          "name": "stdout",
          "text": [
            " [8][9]\n",
            "In the United Kingdom, early recorded usage of the \"sports car\" was in The Times newspaper in 1919. [8] Sports cars started to become popular during the 1920s. Examples of FR layout sports cars are the Caterham 7, Mazda MX-5, and the Dodge Viper. Examples of MR layout sports cars are the Ferrari 488, Ford GT and Toyota MR2. [33][34][35]\n",
            "Since the 1990s, all-wheel drive has become more common in sports cars. [39]\n",
            "Although front-wheel drive with the engine at the front (FF layout) is the most common layout for cars in general, it is not as common amongst traditional sports cars. Examples of FF layout sports cars are the Fiat Barchetta, Saab Sonett, or Opel Tigra. [54] The model was named after King Alfonso XIII of Spain, a patron of the car's chief designer and an enthusiast for the marque. [51]\n",
            "Another approach— such as used by Morris Garages— was to convert touring cars into sports cars. The Montecarlo was a basis for the silhouette racing car, Lancia Rally 037.\n"
          ]
        }
      ]
    },
    {
      "cell_type": "code",
      "source": [
        "import nltk\n",
        "nltk.download('punkt')"
      ],
      "metadata": {
        "colab": {
          "base_uri": "https://localhost:8080/"
        },
        "id": "d1jgodDU5e4o",
        "outputId": "b4ceed88-788b-4dc6-961b-d01e7d217105"
      },
      "execution_count": null,
      "outputs": [
        {
          "output_type": "stream",
          "name": "stderr",
          "text": [
            "[nltk_data] Downloading package punkt to /root/nltk_data...\n",
            "[nltk_data]   Unzipping tokenizers/punkt.zip.\n"
          ]
        },
        {
          "output_type": "execute_result",
          "data": {
            "text/plain": [
              "True"
            ]
          },
          "metadata": {},
          "execution_count": 17
        }
      ]
    }
  ]
}